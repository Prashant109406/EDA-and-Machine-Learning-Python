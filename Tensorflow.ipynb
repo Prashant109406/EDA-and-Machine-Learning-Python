{
 "cells": [
  {
   "cell_type": "code",
   "execution_count": 1,
   "metadata": {},
   "outputs": [
    {
     "name": "stdout",
     "output_type": "stream",
     "text": [
      "Requirement already satisfied: preprocessing in c:\\users\\prashant mourya\\anaconda3\\lib\\site-packages (0.1.13)\n",
      "Requirement already satisfied: nltk==3.2.4 in c:\\users\\prashant mourya\\anaconda3\\lib\\site-packages (from preprocessing) (3.2.4)\n",
      "Requirement already satisfied: sphinx-rtd-theme==0.2.4 in c:\\users\\prashant mourya\\anaconda3\\lib\\site-packages (from preprocessing) (0.2.4)\n",
      "Requirement already satisfied: six in c:\\users\\prashant mourya\\anaconda3\\lib\\site-packages (from nltk==3.2.4->preprocessing) (1.12.0)\n"
     ]
    },
    {
     "name": "stderr",
     "output_type": "stream",
     "text": [
      "Using TensorFlow backend.\n"
     ]
    },
    {
     "name": "stdout",
     "output_type": "stream",
     "text": [
      "Categories: [0 1]\n",
      "Number of unique words: 9998\n"
     ]
    }
   ],
   "source": [
    "!pip install preprocessing\n",
    "#Loading at necessary libraries\n",
    "%matplotlib inline\n",
    "import matplotlib\n",
    "import matplotlib.pyplot as plt\n",
    "import numpy as np\n",
    "from keras.utils import to_categorical\n",
    "from keras import models\n",
    "from keras import layers\n",
    "import tensorflow as tf\n",
    "import matplotlib.pyplot as plt\n",
    "from tensorflow.keras.datasets import imdb\n",
    "%matplotlib inline\n",
    "tf.__version__\n",
    "from tensorflow.keras.models import Model\n",
    "from tensorflow.keras.models import Sequential\n",
    "from tensorflow.keras.layers import Dropout\n",
    "from tensorflow.keras.layers import Flatten\n",
    "from tensorflow.keras.layers import Dense\n",
    "from tensorflow.keras.layers import Embedding\n",
    "from keras.layers.embeddings import Embedding\n",
    "from keras.preprocessing import sequence\n",
    "from keras.datasets import imdb\n",
    "\n",
    "(training_data, training_targets), (testing_data, testing_targets) = imdb.load_data(num_words=10000)\n",
    "data = np.concatenate((training_data, testing_data), axis=0)\n",
    "targets = np.concatenate((training_targets, testing_targets), axis=0)\n",
    "\n",
    "print(\"Categories:\", np.unique(targets))\n",
    "print(\"Number of unique words:\", len(np.unique(np.hstack(data))))\n",
    "\n",
    "\n",
    "\n",
    "\n",
    "\n",
    "\n",
    "\n"
   ]
  },
  {
   "cell_type": "code",
   "execution_count": 2,
   "metadata": {},
   "outputs": [
    {
     "name": "stdout",
     "output_type": "stream",
     "text": [
      "Label: 1\n",
      "[1, 14, 22, 16, 43, 530, 973, 1622, 1385, 65, 458, 4468, 66, 3941, 4, 173, 36, 256, 5, 25, 100, 43, 838, 112, 50, 670, 2, 9, 35, 480, 284, 5, 150, 4, 172, 112, 167, 2, 336, 385, 39, 4, 172, 4536, 1111, 17, 546, 38, 13, 447, 4, 192, 50, 16, 6, 147, 2025, 19, 14, 22, 4, 1920, 4613, 469, 4, 22, 71, 87, 12, 16, 43, 530, 38, 76, 15, 13, 1247, 4, 22, 17, 515, 17, 12, 16, 626, 18, 2, 5, 62, 386, 12, 8, 316, 8, 106, 5, 4, 2223, 5244, 16, 480, 66, 3785, 33, 4, 130, 12, 16, 38, 619, 5, 25, 124, 51, 36, 135, 48, 25, 1415, 33, 6, 22, 12, 215, 28, 77, 52, 5, 14, 407, 16, 82, 2, 8, 4, 107, 117, 5952, 15, 256, 4, 2, 7, 3766, 5, 723, 36, 71, 43, 530, 476, 26, 400, 317, 46, 7, 4, 2, 1029, 13, 104, 88, 4, 381, 15, 297, 98, 32, 2071, 56, 26, 141, 6, 194, 7486, 18, 4, 226, 22, 21, 134, 476, 26, 480, 5, 144, 30, 5535, 18, 51, 36, 28, 224, 92, 25, 104, 4, 226, 65, 16, 38, 1334, 88, 12, 16, 283, 5, 16, 4472, 113, 103, 32, 15, 16, 5345, 19, 178, 32]\n"
     ]
    }
   ],
   "source": [
    "\n",
    "# Check the data\n",
    "print(\"Label:\", targets[0])\n",
    "\n",
    "print(data[0])"
   ]
  },
  {
   "cell_type": "code",
   "execution_count": 3,
   "metadata": {},
   "outputs": [
    {
     "name": "stdout",
     "output_type": "stream",
     "text": [
      "Average Review length: 234.75892\n",
      "Standard Deviation: 173.0\n"
     ]
    }
   ],
   "source": [
    "length = [len(i) for i in data]\n",
    "print(\"Average Review length:\", np.mean(length))\n",
    "print(\"Standard Deviation:\", round(np.std(length)))\n"
   ]
  },
  {
   "cell_type": "code",
   "execution_count": 4,
   "metadata": {},
   "outputs": [
    {
     "name": "stdout",
     "output_type": "stream",
     "text": [
      "# this film was just brilliant casting location scenery story direction everyone's really suited the part they played and you could just imagine being there robert # is an amazing actor and now the same being director # father came from the same scottish island as myself so i loved the fact there was a real connection with this film the witty remarks throughout the film were great it was just brilliant so much that i bought the film as soon as it was released for # and would recommend it to everyone to watch and the fly fishing was amazing really cried at the end it was so sad and you know what they say if you cry at a film it must have been good and this definitely was also # to the two little boy's that played the # of norman and paul they were just brilliant children are often left out of the # list i think because the stars that play them all grown up are such a big profile for the whole film but these children are amazing and should be praised for what they have done don't you think the whole story was so lovely because it was true and was someone's life after all that was shared with us all\n"
     ]
    }
   ],
   "source": [
    "index = imdb.get_word_index()\n",
    "reverse_index = dict([(value, key) for (key, value) in index.items()])\n",
    "decoded = \" \".join( [reverse_index.get(i - 3, \"#\") for i in data[0]] )\n",
    "print(decoded)"
   ]
  },
  {
   "cell_type": "code",
   "execution_count": 5,
   "metadata": {},
   "outputs": [
    {
     "name": "stdout",
     "output_type": "stream",
     "text": [
      "train_data shape: (25000,)\n",
      "train_labels shape: (25000,)\n",
      "a train_data sample: [1, 14, 22, 16, 43, 530, 973, 1622, 1385, 65, 458, 4468, 66, 3941, 4, 173, 36, 256, 5, 25, 100, 43, 838, 112, 50, 670, 2, 9, 35, 480, 284, 5, 150, 4, 172, 112, 167, 2, 336, 385, 39, 4, 172, 4536, 1111, 17, 546, 38, 13, 447, 4, 192, 50, 16, 6, 147, 2025, 19, 14, 22, 4, 1920, 4613, 469, 4, 22, 71, 87, 12, 16, 43, 530, 38, 76, 15, 13, 1247, 4, 22, 17, 515, 17, 12, 16, 626, 18, 2, 5, 62, 386, 12, 8, 316, 8, 106, 5, 4, 2223, 5244, 16, 480, 66, 3785, 33, 4, 130, 12, 16, 38, 619, 5, 25, 124, 51, 36, 135, 48, 25, 1415, 33, 6, 22, 12, 215, 28, 77, 52, 5, 14, 407, 16, 82, 2, 8, 4, 107, 117, 5952, 15, 256, 4, 2, 7, 3766, 5, 723, 36, 71, 43, 530, 476, 26, 400, 317, 46, 7, 4, 2, 1029, 13, 104, 88, 4, 381, 15, 297, 98, 32, 2071, 56, 26, 141, 6, 194, 7486, 18, 4, 226, 22, 21, 134, 476, 26, 480, 5, 144, 30, 5535, 18, 51, 36, 28, 224, 92, 25, 104, 4, 226, 65, 16, 38, 1334, 88, 12, 16, 283, 5, 16, 4472, 113, 103, 32, 15, 16, 5345, 19, 178, 32]\n",
      "a train_label sample: 1\n"
     ]
    }
   ],
   "source": [
    "\n",
    "(train_data, train_targets), (test_data, test_targets) = imdb.load_data(num_words=10000)\n",
    "data = np.concatenate((train_data, test_data), axis=0)\n",
    "targets = np.concatenate((train_targets, test_targets), axis=0)\n",
    "\n",
    "print('train_data shape:', train_data.shape)\n",
    "print('train_labels shape:', train_targets.shape)\n",
    "print('a train_data sample:', train_data[0])\n",
    "print('a train_label sample:', train_targets[0])"
   ]
  },
  {
   "cell_type": "code",
   "execution_count": 6,
   "metadata": {},
   "outputs": [],
   "source": [
    "\n",
    "def vectorize(sequences, dimension = 10000):\n",
    "    results = np.zeros((len(sequences), dimension),dtype=np.float32)\n",
    "    for i, sequence in enumerate(sequences):\n",
    "        results[i, sequence] = 1 # set specific indices of results[i] to be 1s (float)\n",
    "    return results\n",
    "data = vectorize(data)\n",
    "targets = np.array(targets).astype(\"float32\")"
   ]
  },
  {
   "cell_type": "code",
   "execution_count": 7,
   "metadata": {},
   "outputs": [
    {
     "data": {
      "text/plain": [
       "(50000, 10000)"
      ]
     },
     "execution_count": 7,
     "metadata": {},
     "output_type": "execute_result"
    }
   ],
   "source": [
    "# Make sure the test and train variables represent 10000 observations\n",
    "test_x = data[:10000]\n",
    "test_y = targets[:10000]\n",
    "train_x = data[10000:]\n",
    "train_y = targets[10000:]\n",
    "\n",
    "data.shape"
   ]
  },
  {
   "cell_type": "code",
   "execution_count": 8,
   "metadata": {},
   "outputs": [
    {
     "name": "stdout",
     "output_type": "stream",
     "text": [
      "Model: \"sequential_1\"\n",
      "_________________________________________________________________\n",
      "Layer (type)                 Output Shape              Param #   \n",
      "=================================================================\n",
      "dense_1 (Dense)              (None, 50)                500050    \n",
      "_________________________________________________________________\n",
      "dropout_1 (Dropout)          (None, 50)                0         \n",
      "_________________________________________________________________\n",
      "dense_2 (Dense)              (None, 1024)              52224     \n",
      "_________________________________________________________________\n",
      "dropout_2 (Dropout)          (None, 1024)              0         \n",
      "_________________________________________________________________\n",
      "dense_3 (Dense)              (None, 2)                 2050      \n",
      "_________________________________________________________________\n",
      "dense_4 (Dense)              (None, 1)                 3         \n",
      "=================================================================\n",
      "Total params: 554,327\n",
      "Trainable params: 554,327\n",
      "Non-trainable params: 0\n",
      "_________________________________________________________________\n"
     ]
    }
   ],
   "source": [
    "import tensorflow as tf\n",
    "from keras.models import Sequential\n",
    "from keras.layers import Flatten\n",
    "from keras.layers import Dropout\n",
    "from keras.layers import Dense\n",
    "model = Sequential()\n",
    "\n",
    "model.add(Dense(50, activation = tf.nn.relu, input_shape=(10000,)))\n",
    "\n",
    "model.add(Dropout(0.5))\n",
    "model.add(Dense(1024,activation=tf.nn.relu))\n",
    "model.add(Dropout(0.5))\n",
    "model.add(Dense(2))\n",
    "\n",
    "\n",
    "model.add(Dense(1, activation = \"sigmoid\"))\n",
    "model.summary()"
   ]
  },
  {
   "cell_type": "code",
   "execution_count": 9,
   "metadata": {},
   "outputs": [
    {
     "name": "stdout",
     "output_type": "stream",
     "text": [
      "Train on 40000 samples, validate on 10000 samples\n",
      "Epoch 1/20\n",
      "40000/40000 [==============================] - 3s 80us/step - loss: 0.4103 - accuracy: 0.8146 - binary_crossentropy: 0.4103 - val_loss: 0.2559 - val_accuracy: 0.8963 - val_binary_crossentropy: 0.2559\n",
      "Epoch 2/20\n",
      "40000/40000 [==============================] - 3s 66us/step - loss: 0.2158 - accuracy: 0.9165 - binary_crossentropy: 0.2158 - val_loss: 0.2599 - val_accuracy: 0.8964 - val_binary_crossentropy: 0.2599\n",
      "Epoch 3/20\n",
      "40000/40000 [==============================] - 3s 67us/step - loss: 0.1636 - accuracy: 0.9394 - binary_crossentropy: 0.1636 - val_loss: 0.2864 - val_accuracy: 0.8944 - val_binary_crossentropy: 0.2864\n",
      "Epoch 4/20\n",
      "40000/40000 [==============================] - 3s 69us/step - loss: 0.1264 - accuracy: 0.9548 - binary_crossentropy: 0.1264 - val_loss: 0.3282 - val_accuracy: 0.8872 - val_binary_crossentropy: 0.3282\n",
      "Epoch 5/20\n",
      "40000/40000 [==============================] - 3s 68us/step - loss: 0.0985 - accuracy: 0.9639 - binary_crossentropy: 0.0985 - val_loss: 0.3494 - val_accuracy: 0.8875 - val_binary_crossentropy: 0.3494\n",
      "Epoch 6/20\n",
      "40000/40000 [==============================] - 3s 70us/step - loss: 0.0755 - accuracy: 0.9723 - binary_crossentropy: 0.0755 - val_loss: 0.3949 - val_accuracy: 0.8841 - val_binary_crossentropy: 0.3949\n",
      "Epoch 7/20\n",
      "40000/40000 [==============================] - 3s 71us/step - loss: 0.0643 - accuracy: 0.9758 - binary_crossentropy: 0.0643 - val_loss: 0.4449 - val_accuracy: 0.8836 - val_binary_crossentropy: 0.4449\n",
      "Epoch 8/20\n",
      "40000/40000 [==============================] - 3s 75us/step - loss: 0.0571 - accuracy: 0.9790 - binary_crossentropy: 0.0571 - val_loss: 0.4741 - val_accuracy: 0.8830 - val_binary_crossentropy: 0.4741\n",
      "Epoch 9/20\n",
      "40000/40000 [==============================] - 3s 77us/step - loss: 0.0528 - accuracy: 0.9803 - binary_crossentropy: 0.0528 - val_loss: 0.4818 - val_accuracy: 0.8866 - val_binary_crossentropy: 0.4818\n",
      "Epoch 10/20\n",
      "40000/40000 [==============================] - 4s 93us/step - loss: 0.0485 - accuracy: 0.9803 - binary_crossentropy: 0.0485 - val_loss: 0.4944 - val_accuracy: 0.8821 - val_binary_crossentropy: 0.4944\n",
      "Epoch 11/20\n",
      "40000/40000 [==============================] - 4s 96us/step - loss: 0.0482 - accuracy: 0.9808 - binary_crossentropy: 0.0482 - val_loss: 0.4998 - val_accuracy: 0.8825 - val_binary_crossentropy: 0.4998\n",
      "Epoch 12/20\n",
      "40000/40000 [==============================] - 4s 92us/step - loss: 0.0452 - accuracy: 0.9817 - binary_crossentropy: 0.0452 - val_loss: 0.5373 - val_accuracy: 0.8827 - val_binary_crossentropy: 0.5373\n",
      "Epoch 13/20\n",
      "40000/40000 [==============================] - 3s 84us/step - loss: 0.0412 - accuracy: 0.9835 - binary_crossentropy: 0.0412 - val_loss: 0.5584 - val_accuracy: 0.8818 - val_binary_crossentropy: 0.5584\n",
      "Epoch 14/20\n",
      "40000/40000 [==============================] - 3s 85us/step - loss: 0.0391 - accuracy: 0.9841 - binary_crossentropy: 0.0391 - val_loss: 0.5874 - val_accuracy: 0.8833 - val_binary_crossentropy: 0.5874\n",
      "Epoch 15/20\n",
      "40000/40000 [==============================] - 3s 85us/step - loss: 0.0376 - accuracy: 0.9855 - binary_crossentropy: 0.0376 - val_loss: 0.5807 - val_accuracy: 0.8846 - val_binary_crossentropy: 0.5807\n",
      "Epoch 16/20\n",
      "40000/40000 [==============================] - 3s 83us/step - loss: 0.0373 - accuracy: 0.9847 - binary_crossentropy: 0.0373 - val_loss: 0.5860 - val_accuracy: 0.8834 - val_binary_crossentropy: 0.5860\n",
      "Epoch 17/20\n",
      "40000/40000 [==============================] - 3s 87us/step - loss: 0.0340 - accuracy: 0.9862 - binary_crossentropy: 0.0340 - val_loss: 0.5753 - val_accuracy: 0.8820 - val_binary_crossentropy: 0.5753\n",
      "Epoch 18/20\n",
      "40000/40000 [==============================] - 4s 89us/step - loss: 0.0342 - accuracy: 0.9861 - binary_crossentropy: 0.0342 - val_loss: 0.5635 - val_accuracy: 0.8836 - val_binary_crossentropy: 0.5635\n",
      "Epoch 19/20\n",
      "40000/40000 [==============================] - 3s 85us/step - loss: 0.0342 - accuracy: 0.9862 - binary_crossentropy: 0.0342 - val_loss: 0.6009 - val_accuracy: 0.8859 - val_binary_crossentropy: 0.6009\n",
      "Epoch 20/20\n",
      "40000/40000 [==============================] - 4s 88us/step - loss: 0.0306 - accuracy: 0.9871 - binary_crossentropy: 0.0306 - val_loss: 0.6096 - val_accuracy: 0.8853 - val_binary_crossentropy: 0.6096\n"
     ]
    }
   ],
   "source": [
    "model.compile(optimizer = \"adam\",loss = \"binary_crossentropy\",metrics = ['accuracy', 'binary_crossentropy'])\n",
    "results = model.fit(train_x, train_y, epochs=20, batch_size=512, validation_data=(test_x,test_y))"
   ]
  },
  {
   "cell_type": "code",
   "execution_count": 10,
   "metadata": {},
   "outputs": [],
   "source": [
    "from keras.preprocessing.text import Tokenizer\n",
    "from keras.models import Sequential\n",
    "from keras import layers\n",
    "from keras.preprocessing.sequence import pad_sequences\n",
    "import numpy as np\n",
    "import pandas as pd"
   ]
  },
  {
   "cell_type": "code",
   "execution_count": 11,
   "metadata": {},
   "outputs": [
    {
     "data": {
      "text/html": [
       "<div>\n",
       "<style scoped>\n",
       "    .dataframe tbody tr th:only-of-type {\n",
       "        vertical-align: middle;\n",
       "    }\n",
       "\n",
       "    .dataframe tbody tr th {\n",
       "        vertical-align: top;\n",
       "    }\n",
       "\n",
       "    .dataframe thead th {\n",
       "        text-align: right;\n",
       "    }\n",
       "</style>\n",
       "<table border=\"1\" class=\"dataframe\">\n",
       "  <thead>\n",
       "    <tr style=\"text-align: right;\">\n",
       "      <th></th>\n",
       "      <th>sentence</th>\n",
       "      <th>label</th>\n",
       "    </tr>\n",
       "  </thead>\n",
       "  <tbody>\n",
       "    <tr>\n",
       "      <td>0</td>\n",
       "      <td>Wow... Loved this place.</td>\n",
       "      <td>1</td>\n",
       "    </tr>\n",
       "    <tr>\n",
       "      <td>1</td>\n",
       "      <td>Crust is not good.</td>\n",
       "      <td>0</td>\n",
       "    </tr>\n",
       "    <tr>\n",
       "      <td>2</td>\n",
       "      <td>Not tasty and the texture was just nasty.</td>\n",
       "      <td>0</td>\n",
       "    </tr>\n",
       "    <tr>\n",
       "      <td>3</td>\n",
       "      <td>Stopped by during the late May bank holiday of...</td>\n",
       "      <td>1</td>\n",
       "    </tr>\n",
       "    <tr>\n",
       "      <td>4</td>\n",
       "      <td>The selection on the menu was great and so wer...</td>\n",
       "      <td>1</td>\n",
       "    </tr>\n",
       "  </tbody>\n",
       "</table>\n",
       "</div>"
      ],
      "text/plain": [
       "                                            sentence  label\n",
       "0                           Wow... Loved this place.      1\n",
       "1                                 Crust is not good.      0\n",
       "2          Not tasty and the texture was just nasty.      0\n",
       "3  Stopped by during the late May bank holiday of...      1\n",
       "4  The selection on the menu was great and so wer...      1"
      ]
     },
     "execution_count": 11,
     "metadata": {},
     "output_type": "execute_result"
    }
   ],
   "source": [
    "epochs = 20\n",
    "maxlen = 100\n",
    "embedding_dim = 50\n",
    "num_filters = 64\n",
    "kernel_size = 5\n",
    "batch_size = 32\n",
    "# Import the data.\n",
    "data = pd.read_csv(r\"C:\\Users\\Prashant Mourya\\Desktop\\603\\yelp_labelled.txt\",names=['sentence', 'label'], sep='\\t')\n",
    "data.head()"
   ]
  },
  {
   "cell_type": "code",
   "execution_count": 12,
   "metadata": {},
   "outputs": [],
   "source": [
    "sentences=data['sentence'].values\n",
    "labels=data['label'].values\n",
    "\n",
    "\n",
    "\n",
    "\n"
   ]
  },
  {
   "cell_type": "code",
   "execution_count": 13,
   "metadata": {},
   "outputs": [],
   "source": [
    "from sklearn.model_selection import train_test_split\n",
    "X_train, X_test, y_train, y_test = train_test_split(\n",
    "sentences, labels, test_size=0.30, random_state=1000)\n",
    "tokenizer = Tokenizer(num_words=5000)\n",
    "tokenizer.fit_on_texts(X_train)\n",
    "X_train = tokenizer.texts_to_sequences(X_train)\n",
    "X_test = tokenizer.texts_to_sequences(X_test)\n",
    "vocab_size = len(tokenizer.word_index) + 1\n",
    "X_train = pad_sequences(X_train, padding='post', maxlen=maxlen)\n",
    "X_test = pad_sequences(X_test, padding='post', maxlen=maxlen)"
   ]
  },
  {
   "cell_type": "code",
   "execution_count": 14,
   "metadata": {},
   "outputs": [],
   "source": [
    "model = Sequential()\n",
    "model.add(layers.Embedding(vocab_size, embedding_dim, input_length=maxlen))\n",
    "model.add(layers.Conv1D(num_filters, kernel_size, activation='relu'))\n",
    "model.add(layers.GlobalMaxPooling1D())\n",
    "model.add(layers.Dense(10, activation='relu'))\n"
   ]
  },
  {
   "cell_type": "code",
   "execution_count": 15,
   "metadata": {},
   "outputs": [
    {
     "name": "stdout",
     "output_type": "stream",
     "text": [
      "Model: \"sequential_2\"\n",
      "_________________________________________________________________\n",
      "Layer (type)                 Output Shape              Param #   \n",
      "=================================================================\n",
      "embedding_1 (Embedding)      (None, 100, 50)           84900     \n",
      "_________________________________________________________________\n",
      "conv1d_1 (Conv1D)            (None, 96, 64)            16064     \n",
      "_________________________________________________________________\n",
      "global_max_pooling1d_1 (Glob (None, 64)                0         \n",
      "_________________________________________________________________\n",
      "dense_5 (Dense)              (None, 10)                650       \n",
      "_________________________________________________________________\n",
      "dense_6 (Dense)              (None, 1)                 11        \n",
      "=================================================================\n",
      "Total params: 101,625\n",
      "Trainable params: 101,625\n",
      "Non-trainable params: 0\n",
      "_________________________________________________________________\n"
     ]
    }
   ],
   "source": [
    "model.add(layers.Dense(1, activation='sigmoid'))\n",
    "model.compile(optimizer='adam',\n",
    "loss='binary_crossentropy',\n",
    "metrics=['accuracy'])\n",
    "model.summary()"
   ]
  },
  {
   "cell_type": "code",
   "execution_count": 16,
   "metadata": {},
   "outputs": [
    {
     "name": "stderr",
     "output_type": "stream",
     "text": [
      "C:\\Users\\Prashant Mourya\\Anaconda3\\lib\\site-packages\\tensorflow_core\\python\\framework\\indexed_slices.py:433: UserWarning: Converting sparse IndexedSlices to a dense Tensor of unknown shape. This may consume a large amount of memory.\n",
      "  \"Converting sparse IndexedSlices to a dense Tensor of unknown shape. \"\n"
     ]
    },
    {
     "name": "stdout",
     "output_type": "stream",
     "text": [
      "Training Accuracy: 1.0000\n",
      "Testing Accuracy: 0.8033\n"
     ]
    }
   ],
   "source": [
    "model.fit(X_train, y_train,epochs=epochs,verbose=False,validation_data=(X_test, y_test),batch_size=batch_size)\n",
    "loss, accuracy = model.evaluate(X_train, y_train, verbose=False)\n",
    "print(\"Training Accuracy: {:.4f}\".format(accuracy))\n",
    "loss, accuracy = model.evaluate(X_test, y_test, verbose=False)\n",
    "print(\"Testing Accuracy: {:.4f}\".format(accuracy))"
   ]
  },
  {
   "cell_type": "code",
   "execution_count": null,
   "metadata": {},
   "outputs": [],
   "source": []
  }
 ],
 "metadata": {
  "kernelspec": {
   "display_name": "Python 3",
   "language": "python",
   "name": "python3"
  },
  "language_info": {
   "codemirror_mode": {
    "name": "ipython",
    "version": 3
   },
   "file_extension": ".py",
   "mimetype": "text/x-python",
   "name": "python",
   "nbconvert_exporter": "python",
   "pygments_lexer": "ipython3",
   "version": "3.7.4"
  }
 },
 "nbformat": 4,
 "nbformat_minor": 2
}
